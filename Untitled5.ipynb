{
  "nbformat": 4,
  "nbformat_minor": 0,
  "metadata": {
    "colab": {
      "provenance": [],
      "authorship_tag": "ABX9TyNExOboxSI5ScjKm5Z6egvQ",
      "include_colab_link": true
    },
    "kernelspec": {
      "name": "python3",
      "display_name": "Python 3"
    },
    "language_info": {
      "name": "python"
    }
  },
  "cells": [
    {
      "cell_type": "markdown",
      "metadata": {
        "id": "view-in-github",
        "colab_type": "text"
      },
      "source": [
        "<a href=\"https://colab.research.google.com/github/Cesareloy01/Ejercicios-simulaci-n-/blob/main/Untitled5.ipynb\" target=\"_parent\"><img src=\"https://colab.research.google.com/assets/colab-badge.svg\" alt=\"Open In Colab\"/></a>"
      ]
    },
    {
      "cell_type": "code",
      "execution_count": 1,
      "metadata": {
        "colab": {
          "base_uri": "https://localhost:8080/"
        },
        "id": "BGkWkRMZ1iRE",
        "outputId": "39c4f602-c911-4797-96d1-50aea2a8c72b"
      },
      "outputs": [
        {
          "output_type": "stream",
          "name": "stdout",
          "text": [
            "9 7 9 7 8\n",
            "0.5\n"
          ]
        }
      ],
      "source": [
        "\n",
        "import numpy as np\n",
        "\n",
        "datos = np.array([38, 33, 25, 5, 69, 35, 98, 52, 12, 79, 50, 46, 95, 42, 49, 11, 78, 34, 2, 43, 7, 50, 5, 91, 77, 18, 21, 4, 17, 62, 91, 36, 48, 88, 52, 76, 99, 73, 82, 90])\n",
        "datos01 = datos/100\n",
        "d = list(datos01)\n",
        "\n",
        "n = len(d)\n",
        "#print(n)\n",
        "i1 = 0\n",
        "i2 = 0\n",
        "i3 = 0\n",
        "i4 = 0\n",
        "i5 = 0\n",
        "\n",
        "for k in range(n):\n",
        "  if d[k]<0.20 and d[k] >= 0:\n",
        "    i1 = i1 + 1\n",
        "  elif d[k]<0.40 and d[k] >= 0.20:\n",
        "    i2 = i2 + 1\n",
        "  elif 0.40<=d[k] and d[k]<0.60:\n",
        "    i3 = i3 + 1\n",
        "  elif 0.60<=d[k] and d[k]<0.80:\n",
        "    i4 = i4 + 1\n",
        "  elif 0.80<=d[k] and d[k]<1.00:\n",
        "    i5 = i5 + 1\n",
        "\n",
        "print(i1, i2, i3, i4, i5)\n",
        "#print(datos01)\n",
        "\n",
        "e = n/5\n",
        "\n",
        "#print(e)\n",
        "\n",
        "dif = [(i1-e)**2, (i2-e)**2, (i3-e)**3, (i4-e)**2, (i5-e)**2]\n",
        "print(sum(dif)/8)"
      ]
    },
    {
      "cell_type": "markdown",
      "source": [],
      "metadata": {
        "id": "zbKtZfFgPszZ"
      }
    },
    {
      "cell_type": "code",
      "source": [],
      "metadata": {
        "id": "m2uVE6I9POOD"
      },
      "execution_count": null,
      "outputs": []
    },
    {
      "cell_type": "markdown",
      "source": [
        "En este código se calcula el número de valores que caen en cada intervalo, así como X cuadrada."
      ],
      "metadata": {
        "id": "bZBm2dw8PTYN"
      }
    },
    {
      "cell_type": "code",
      "source": [],
      "metadata": {
        "id": "kSnwJYXgPSP5"
      },
      "execution_count": null,
      "outputs": []
    }
  ]
}