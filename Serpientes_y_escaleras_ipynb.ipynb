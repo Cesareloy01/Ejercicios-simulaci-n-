{
  "nbformat": 4,
  "nbformat_minor": 0,
  "metadata": {
    "colab": {
      "provenance": [],
      "authorship_tag": "ABX9TyOpr3V2zMZBVQ7uc7WS4SnW",
      "include_colab_link": true
    },
    "kernelspec": {
      "name": "python3",
      "display_name": "Python 3"
    },
    "language_info": {
      "name": "python"
    }
  },
  "cells": [
    {
      "cell_type": "markdown",
      "metadata": {
        "id": "view-in-github",
        "colab_type": "text"
      },
      "source": [
        "<a href=\"https://colab.research.google.com/github/Cesareloy01/Ejercicios-simulaci-n-/blob/main/Serpientes_y_escaleras_ipynb.ipynb\" target=\"_parent\"><img src=\"https://colab.research.google.com/assets/colab-badge.svg\" alt=\"Open In Colab\"/></a>"
      ]
    },
    {
      "cell_type": "code",
      "execution_count": 2,
      "metadata": {
        "colab": {
          "base_uri": "https://localhost:8080/"
        },
        "id": "UkwC4euqNoEa",
        "outputId": "75d6e797-a7ed-47e3-dd85-ae477003cb28"
      },
      "outputs": [
        {
          "output_type": "stream",
          "name": "stdout",
          "text": [
            "Matriz de transición:\n",
            "[[0.         0.16666667 0.16666667 0.         0.16666667 0.16666667\n",
            "  0.16666667 0.         0.         0.         0.         0.16666667\n",
            "  0.         0.         0.         0.         0.         0.\n",
            "  0.         0.        ]\n",
            " [0.         0.         0.16666667 0.         0.16666667 0.16666667\n",
            "  0.16666667 0.16666667 0.         0.         0.         0.16666667\n",
            "  0.         0.         0.         0.         0.         0.\n",
            "  0.         0.        ]\n",
            " [0.         0.         0.         0.         0.16666667 0.16666667\n",
            "  0.16666667 0.16666667 0.16666667 0.         0.         0.16666667\n",
            "  0.         0.         0.         0.         0.         0.\n",
            "  0.         0.        ]\n",
            " [0.         0.         0.         0.         0.16666667 0.16666667\n",
            "  0.16666667 0.16666667 0.16666667 0.16666667 0.         0.\n",
            "  0.         0.         0.         0.         0.         0.\n",
            "  0.         0.        ]\n",
            " [0.         0.         0.         0.         0.         0.16666667\n",
            "  0.16666667 0.16666667 0.16666667 0.16666667 0.16666667 0.\n",
            "  0.         0.         0.         0.         0.         0.\n",
            "  0.         0.        ]\n",
            " [0.         0.         0.         0.         0.         0.\n",
            "  0.16666667 0.16666667 0.16666667 0.16666667 0.16666667 0.16666667\n",
            "  0.         0.         0.         0.         0.         0.\n",
            "  0.         0.        ]\n",
            " [0.         0.         0.         0.         0.         0.\n",
            "  0.         0.16666667 0.16666667 0.16666667 0.16666667 0.16666667\n",
            "  0.16666667 0.         0.         0.         0.         0.\n",
            "  0.         0.        ]\n",
            " [0.         0.         0.         0.         0.16666667 0.\n",
            "  0.         0.         0.16666667 0.16666667 0.16666667 0.16666667\n",
            "  0.16666667 0.         0.         0.         0.         0.\n",
            "  0.         0.        ]\n",
            " [0.         0.         0.         0.         0.16666667 0.\n",
            "  0.         0.         0.         0.16666667 0.16666667 0.16666667\n",
            "  0.16666667 0.         0.16666667 0.         0.         0.\n",
            "  0.         0.        ]\n",
            " [0.         0.         0.         0.         0.16666667 0.\n",
            "  0.         0.         0.         0.         0.16666667 0.16666667\n",
            "  0.16666667 0.         0.16666667 0.         0.         0.\n",
            "  0.         0.16666667]\n",
            " [0.         0.         0.         0.         0.16666667 0.\n",
            "  0.         0.         0.         0.         0.         0.16666667\n",
            "  0.16666667 0.         0.16666667 0.         0.16666667 0.\n",
            "  0.         0.16666667]\n",
            " [0.         0.         0.         0.         0.16666667 0.\n",
            "  0.         0.         0.         0.         0.16666667 0.\n",
            "  0.16666667 0.         0.16666667 0.         0.16666667 0.\n",
            "  0.         0.16666667]\n",
            " [0.         0.         0.         0.         0.16666667 0.\n",
            "  0.         0.         0.         0.         0.16666667 0.\n",
            "  0.         0.         0.16666667 0.         0.16666667 0.\n",
            "  0.16666667 0.16666667]\n",
            " [0.         0.         0.         0.         0.         0.\n",
            "  0.         0.         0.         0.         0.16666667 0.\n",
            "  0.         0.         0.16666667 0.         0.16666667 0.\n",
            "  0.16666667 0.33333333]\n",
            " [0.         0.         0.         0.         0.         0.\n",
            "  0.         0.         0.         0.         0.16666667 0.\n",
            "  0.         0.         0.         0.         0.16666667 0.\n",
            "  0.16666667 0.5       ]\n",
            " [0.         0.         0.         0.         0.         0.\n",
            "  0.         0.         0.         0.         0.16666667 0.\n",
            "  0.         0.         0.         0.         0.16666667 0.\n",
            "  0.16666667 0.5       ]\n",
            " [0.         0.         0.         0.         0.         0.\n",
            "  0.         0.         0.         0.         0.16666667 0.\n",
            "  0.         0.         0.         0.         0.         0.\n",
            "  0.16666667 0.66666667]\n",
            " [0.         0.         0.         0.         0.         0.\n",
            "  0.         0.         0.         0.         0.         0.\n",
            "  0.         0.         0.         0.         0.         0.\n",
            "  0.16666667 0.83333333]\n",
            " [0.         0.         0.         0.         0.         0.\n",
            "  0.         0.         0.         0.         0.         0.\n",
            "  0.         0.         0.         0.         0.         0.\n",
            "  0.         1.        ]\n",
            " [0.         0.         0.         0.         0.         0.\n",
            "  0.         0.         0.         0.         0.         0.\n",
            "  0.         0.         0.         0.         0.         0.\n",
            "  0.         1.        ]]\n"
          ]
        }
      ],
      "source": [
        "import numpy as np\n",
        "\n",
        "# Tamaño del tablero\n",
        "board_size = 20\n",
        "\n",
        "# Crear matriz de transición inicializada con ceros\n",
        "transition_matrix = np.zeros((board_size, board_size))\n",
        "\n",
        "# Definir las escaleras y las serpientes\n",
        "escalon1 = (3, 11)\n",
        "escalon2 = (15, 19)\n",
        "serpiente1 = (13, 4)\n",
        "serpiente2 = (17, 10)\n",
        "\n",
        "# Llenar la matriz de transición con las probabilidades de movimiento\n",
        "for i in range(board_size):\n",
        "    for j in range(1, 7):  # Consideramos los posibles resultados del dado (1 al 6)\n",
        "        next_square = min(i + j, board_size - 1)  # Nos aseguramos de no salir del tablero\n",
        "        if next_square == escalon1[0]:\n",
        "            next_square = escalon1[1]\n",
        "        elif next_square == escalon2[0]:\n",
        "            next_square = escalon2[1]\n",
        "        elif next_square == serpiente1[0]:\n",
        "            next_square = serpiente1[1]\n",
        "        elif next_square == serpiente2[0]:\n",
        "            next_square = serpiente2[1]\n",
        "        transition_matrix[i, next_square] += 1 / 6\n",
        "\n",
        "print(\"Matriz de transición:\")\n",
        "print(transition_matrix)"
      ]
    },
    {
      "cell_type": "code",
      "source": [
        "def expected_number_of_rolls(transition_matrix):\n",
        "    num_squares = transition_matrix.shape[0]\n",
        "    values = np.zeros(num_squares)\n",
        "    values[-1] = 0  # La casilla final tiene un valor de 0\n",
        "    convergence_threshold = 1e-6\n",
        "    max_iterations = 1000\n",
        "    for _ in range(max_iterations):\n",
        "        next_values = np.zeros(num_squares)\n",
        "        for i in range(num_squares):\n",
        "            if i != num_squares - 1:  # No calculamos el valor para la casilla final\n",
        "                next_values[i] = 1 + np.sum(transition_matrix[i] * values)\n",
        "        if np.max(np.abs(next_values - values)) < convergence_threshold:\n",
        "            break\n",
        "        values = next_values\n",
        "    return values[0]\n",
        "\n",
        "expected_rolls = expected_number_of_rolls(transition_matrix)\n",
        "print(\"Número esperado de lanzamientos para terminar el juego:\", expected_rolls)"
      ],
      "metadata": {
        "colab": {
          "base_uri": "https://localhost:8080/"
        },
        "id": "eYLPgqljN54C",
        "outputId": "980ab9b1-a3ad-4ad2-af39-c64f392d038a"
      },
      "execution_count": 3,
      "outputs": [
        {
          "output_type": "stream",
          "name": "stdout",
          "text": [
            "Número esperado de lanzamientos para terminar el juego: 6.481586192723379\n"
          ]
        }
      ]
    }
  ]
}